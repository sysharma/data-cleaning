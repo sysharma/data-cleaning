{
 "cells": [
  {
   "cell_type": "code",
   "execution_count": 1,
   "metadata": {},
   "outputs": [],
   "source": [
    "import pandas as pd"
   ]
  },
  {
   "cell_type": "code",
   "execution_count": 2,
   "metadata": {},
   "outputs": [
    {
     "data": {
      "text/plain": [
       "'0.25.1'"
      ]
     },
     "execution_count": 2,
     "metadata": {},
     "output_type": "execute_result"
    }
   ],
   "source": [
    "pd.__version__"
   ]
  },
  {
   "cell_type": "markdown",
   "metadata": {},
   "source": [
    " Read pertinent rows only from excel file into a dataframe"
   ]
  },
  {
   "cell_type": "code",
   "execution_count": 3,
   "metadata": {},
   "outputs": [],
   "source": [
    "fleet_df = pd.read_excel(\"table_01_33_102020.xlsx\",index_col=0, skiprows=[0,2,5],nrows=5)"
   ]
  },
  {
   "cell_type": "markdown",
   "metadata": {},
   "source": [
    "Examine the dataframe"
   ]
  },
  {
   "cell_type": "code",
   "execution_count": 4,
   "metadata": {},
   "outputs": [
    {
     "data": {
      "text/html": [
       "<div>\n",
       "<style scoped>\n",
       "    .dataframe tbody tr th:only-of-type {\n",
       "        vertical-align: middle;\n",
       "    }\n",
       "\n",
       "    .dataframe tbody tr th {\n",
       "        vertical-align: top;\n",
       "    }\n",
       "\n",
       "    .dataframe thead th {\n",
       "        text-align: right;\n",
       "    }\n",
       "</style>\n",
       "<table border=\"1\" class=\"dataframe\">\n",
       "  <thead>\n",
       "    <tr style=\"text-align: right;\">\n",
       "      <th></th>\n",
       "      <th>1972</th>\n",
       "      <th>1975</th>\n",
       "      <th>1980</th>\n",
       "      <th>1985</th>\n",
       "      <th>1990</th>\n",
       "      <th>1991</th>\n",
       "      <th>1992</th>\n",
       "      <th>1993</th>\n",
       "      <th>1994</th>\n",
       "      <th>1995</th>\n",
       "      <th>...</th>\n",
       "      <th>2010</th>\n",
       "      <th>2011</th>\n",
       "      <th>2012</th>\n",
       "      <th>2013</th>\n",
       "      <th>2014</th>\n",
       "      <th>2015</th>\n",
       "      <th>2016</th>\n",
       "      <th>2017</th>\n",
       "      <th>2018</th>\n",
       "      <th>2019</th>\n",
       "    </tr>\n",
       "  </thead>\n",
       "  <tbody>\n",
       "    <tr>\n",
       "      <td>Percent available for servicea</td>\n",
       "      <td>U</td>\n",
       "      <td>87.0</td>\n",
       "      <td>83.0</td>\n",
       "      <td>93.0</td>\n",
       "      <td>84</td>\n",
       "      <td>86</td>\n",
       "      <td>83.0</td>\n",
       "      <td>84.0</td>\n",
       "      <td>85.0</td>\n",
       "      <td>88.0</td>\n",
       "      <td>...</td>\n",
       "      <td>85.5</td>\n",
       "      <td>84.2</td>\n",
       "      <td>83.7</td>\n",
       "      <td>80.3</td>\n",
       "      <td>82.5</td>\n",
       "      <td>82.0</td>\n",
       "      <td>U</td>\n",
       "      <td>U</td>\n",
       "      <td>U</td>\n",
       "      <td>U</td>\n",
       "    </tr>\n",
       "    <tr>\n",
       "      <td>Average age (years)b</td>\n",
       "      <td>22.3</td>\n",
       "      <td>14.4</td>\n",
       "      <td>7.4</td>\n",
       "      <td>7.0</td>\n",
       "      <td>12</td>\n",
       "      <td>13</td>\n",
       "      <td>13.0</td>\n",
       "      <td>13.2</td>\n",
       "      <td>13.4</td>\n",
       "      <td>13.9</td>\n",
       "      <td>...</td>\n",
       "      <td>19.1</td>\n",
       "      <td>20.0</td>\n",
       "      <td>21.0</td>\n",
       "      <td>21.9</td>\n",
       "      <td>21.5</td>\n",
       "      <td>21.1</td>\n",
       "      <td>20.3</td>\n",
       "      <td>19.3</td>\n",
       "      <td>19.9</td>\n",
       "      <td>18.3</td>\n",
       "    </tr>\n",
       "    <tr>\n",
       "      <td>Percent available for servicea</td>\n",
       "      <td>U</td>\n",
       "      <td>82.0</td>\n",
       "      <td>77.0</td>\n",
       "      <td>90.0</td>\n",
       "      <td>90</td>\n",
       "      <td>92</td>\n",
       "      <td>90.0</td>\n",
       "      <td>89.0</td>\n",
       "      <td>88.0</td>\n",
       "      <td>90.0</td>\n",
       "      <td>...</td>\n",
       "      <td>88.5</td>\n",
       "      <td>87.7</td>\n",
       "      <td>88.7</td>\n",
       "      <td>89.1</td>\n",
       "      <td>89.1</td>\n",
       "      <td>88.8</td>\n",
       "      <td>U</td>\n",
       "      <td>U</td>\n",
       "      <td>U</td>\n",
       "      <td>U</td>\n",
       "    </tr>\n",
       "    <tr>\n",
       "      <td>Average age (years)b</td>\n",
       "      <td>22</td>\n",
       "      <td>24.7</td>\n",
       "      <td>14.3</td>\n",
       "      <td>14.2</td>\n",
       "      <td>20</td>\n",
       "      <td>21</td>\n",
       "      <td>21.5</td>\n",
       "      <td>22.6</td>\n",
       "      <td>22.4</td>\n",
       "      <td>21.8</td>\n",
       "      <td>...</td>\n",
       "      <td>25.6</td>\n",
       "      <td>26.5</td>\n",
       "      <td>27.7</td>\n",
       "      <td>28.6</td>\n",
       "      <td>29.6</td>\n",
       "      <td>30.7</td>\n",
       "      <td>31.3</td>\n",
       "      <td>30.6</td>\n",
       "      <td>31.3</td>\n",
       "      <td>32.7</td>\n",
       "    </tr>\n",
       "  </tbody>\n",
       "</table>\n",
       "<p>4 rows × 34 columns</p>\n",
       "</div>"
      ],
      "text/plain": [
       "                                1972  1975  1980  1985  1990  1991  1992  \\\n",
       "Percent available for servicea     U  87.0  83.0  93.0    84    86  83.0   \n",
       "Average age (years)b            22.3  14.4   7.4   7.0    12    13  13.0   \n",
       "Percent available for servicea     U  82.0  77.0  90.0    90    92  90.0   \n",
       "Average age (years)b              22  24.7  14.3  14.2    20    21  21.5   \n",
       "\n",
       "                                1993  1994  1995  ...  2010  2011  2012  2013  \\\n",
       "Percent available for servicea  84.0  85.0  88.0  ...  85.5  84.2  83.7  80.3   \n",
       "Average age (years)b            13.2  13.4  13.9  ...  19.1  20.0  21.0  21.9   \n",
       "Percent available for servicea  89.0  88.0  90.0  ...  88.5  87.7  88.7  89.1   \n",
       "Average age (years)b            22.6  22.4  21.8  ...  25.6  26.5  27.7  28.6   \n",
       "\n",
       "                                2014  2015  2016  2017  2018  2019  \n",
       "Percent available for servicea  82.5  82.0     U     U     U     U  \n",
       "Average age (years)b            21.5  21.1  20.3  19.3  19.9  18.3  \n",
       "Percent available for servicea  89.1  88.8     U     U     U     U  \n",
       "Average age (years)b            29.6  30.7  31.3  30.6  31.3  32.7  \n",
       "\n",
       "[4 rows x 34 columns]"
      ]
     },
     "execution_count": 4,
     "metadata": {},
     "output_type": "execute_result"
    }
   ],
   "source": [
    "fleet_df.head()"
   ]
  },
  {
   "cell_type": "markdown",
   "metadata": {},
   "source": [
    "Transpose the dataframe to make rows and columns meaningful"
   ]
  },
  {
   "cell_type": "code",
   "execution_count": 5,
   "metadata": {},
   "outputs": [],
   "source": [
    "fleet_df = fleet_df.T"
   ]
  },
  {
   "cell_type": "code",
   "execution_count": 6,
   "metadata": {},
   "outputs": [
    {
     "data": {
      "text/html": [
       "<div>\n",
       "<style scoped>\n",
       "    .dataframe tbody tr th:only-of-type {\n",
       "        vertical-align: middle;\n",
       "    }\n",
       "\n",
       "    .dataframe tbody tr th {\n",
       "        vertical-align: top;\n",
       "    }\n",
       "\n",
       "    .dataframe thead th {\n",
       "        text-align: right;\n",
       "    }\n",
       "</style>\n",
       "<table border=\"1\" class=\"dataframe\">\n",
       "  <thead>\n",
       "    <tr style=\"text-align: right;\">\n",
       "      <th></th>\n",
       "      <th>Percent available for servicea</th>\n",
       "      <th>Average age (years)b</th>\n",
       "      <th>Percent available for servicea</th>\n",
       "      <th>Average age (years)b</th>\n",
       "    </tr>\n",
       "  </thead>\n",
       "  <tbody>\n",
       "    <tr>\n",
       "      <td>1972</td>\n",
       "      <td>U</td>\n",
       "      <td>22.3</td>\n",
       "      <td>U</td>\n",
       "      <td>22</td>\n",
       "    </tr>\n",
       "    <tr>\n",
       "      <td>1975</td>\n",
       "      <td>87</td>\n",
       "      <td>14.4</td>\n",
       "      <td>82</td>\n",
       "      <td>24.7</td>\n",
       "    </tr>\n",
       "    <tr>\n",
       "      <td>1980</td>\n",
       "      <td>83</td>\n",
       "      <td>7.4</td>\n",
       "      <td>77</td>\n",
       "      <td>14.3</td>\n",
       "    </tr>\n",
       "    <tr>\n",
       "      <td>1985</td>\n",
       "      <td>93</td>\n",
       "      <td>7</td>\n",
       "      <td>90</td>\n",
       "      <td>14.2</td>\n",
       "    </tr>\n",
       "    <tr>\n",
       "      <td>1990</td>\n",
       "      <td>84</td>\n",
       "      <td>12</td>\n",
       "      <td>90</td>\n",
       "      <td>20</td>\n",
       "    </tr>\n",
       "  </tbody>\n",
       "</table>\n",
       "</div>"
      ],
      "text/plain": [
       "     Percent available for servicea Average age (years)b  \\\n",
       "1972                              U                 22.3   \n",
       "1975                             87                 14.4   \n",
       "1980                             83                  7.4   \n",
       "1985                             93                    7   \n",
       "1990                             84                   12   \n",
       "\n",
       "     Percent available for servicea Average age (years)b  \n",
       "1972                              U                   22  \n",
       "1975                             82                 24.7  \n",
       "1980                             77                 14.3  \n",
       "1985                             90                 14.2  \n",
       "1990                             90                   20  "
      ]
     },
     "execution_count": 6,
     "metadata": {},
     "output_type": "execute_result"
    }
   ],
   "source": [
    "fleet_df.head()"
   ]
  },
  {
   "cell_type": "markdown",
   "metadata": {},
   "source": [
    "Rename columns to all lowercase and no spaces and index name to \"year\""
   ]
  },
  {
   "cell_type": "code",
   "execution_count": 7,
   "metadata": {},
   "outputs": [],
   "source": [
    "fleet_cols = ['loco_prcnt_available', 'loco_avg_age', 'amtk_prcnt_available', 'amtk_avg_age']\n",
    "fleet_df.columns = fleet_cols"
   ]
  },
  {
   "cell_type": "code",
   "execution_count": 8,
   "metadata": {},
   "outputs": [],
   "source": [
    "fleet_df.index.name = 'year'"
   ]
  },
  {
   "cell_type": "code",
   "execution_count": 9,
   "metadata": {},
   "outputs": [
    {
     "data": {
      "text/html": [
       "<div>\n",
       "<style scoped>\n",
       "    .dataframe tbody tr th:only-of-type {\n",
       "        vertical-align: middle;\n",
       "    }\n",
       "\n",
       "    .dataframe tbody tr th {\n",
       "        vertical-align: top;\n",
       "    }\n",
       "\n",
       "    .dataframe thead th {\n",
       "        text-align: right;\n",
       "    }\n",
       "</style>\n",
       "<table border=\"1\" class=\"dataframe\">\n",
       "  <thead>\n",
       "    <tr style=\"text-align: right;\">\n",
       "      <th></th>\n",
       "      <th>loco_prcnt_available</th>\n",
       "      <th>loco_avg_age</th>\n",
       "      <th>amtk_prcnt_available</th>\n",
       "      <th>amtk_avg_age</th>\n",
       "    </tr>\n",
       "    <tr>\n",
       "      <th>year</th>\n",
       "      <th></th>\n",
       "      <th></th>\n",
       "      <th></th>\n",
       "      <th></th>\n",
       "    </tr>\n",
       "  </thead>\n",
       "  <tbody>\n",
       "    <tr>\n",
       "      <td>1972</td>\n",
       "      <td>U</td>\n",
       "      <td>22.3</td>\n",
       "      <td>U</td>\n",
       "      <td>22</td>\n",
       "    </tr>\n",
       "    <tr>\n",
       "      <td>1975</td>\n",
       "      <td>87</td>\n",
       "      <td>14.4</td>\n",
       "      <td>82</td>\n",
       "      <td>24.7</td>\n",
       "    </tr>\n",
       "    <tr>\n",
       "      <td>1980</td>\n",
       "      <td>83</td>\n",
       "      <td>7.4</td>\n",
       "      <td>77</td>\n",
       "      <td>14.3</td>\n",
       "    </tr>\n",
       "    <tr>\n",
       "      <td>1985</td>\n",
       "      <td>93</td>\n",
       "      <td>7</td>\n",
       "      <td>90</td>\n",
       "      <td>14.2</td>\n",
       "    </tr>\n",
       "    <tr>\n",
       "      <td>1990</td>\n",
       "      <td>84</td>\n",
       "      <td>12</td>\n",
       "      <td>90</td>\n",
       "      <td>20</td>\n",
       "    </tr>\n",
       "  </tbody>\n",
       "</table>\n",
       "</div>"
      ],
      "text/plain": [
       "     loco_prcnt_available loco_avg_age amtk_prcnt_available amtk_avg_age\n",
       "year                                                                    \n",
       "1972                    U         22.3                    U           22\n",
       "1975                   87         14.4                   82         24.7\n",
       "1980                   83          7.4                   77         14.3\n",
       "1985                   93            7                   90         14.2\n",
       "1990                   84           12                   90           20"
      ]
     },
     "execution_count": 9,
     "metadata": {},
     "output_type": "execute_result"
    }
   ],
   "source": [
    "fleet_df.head()"
   ]
  },
  {
   "cell_type": "code",
   "execution_count": 10,
   "metadata": {},
   "outputs": [
    {
     "data": {
      "text/plain": [
       "Int64Index([1972, 1975, 1980, 1985, 1990, 1991, 1992, 1993, 1994, 1995, 1996,\n",
       "            1997, 1998, 1999, 2000, 2001, 2002, 2003, 2004, 2005, 2006, 2007,\n",
       "            2008, 2009, 2010, 2011, 2012, 2013, 2014, 2015, 2016, 2017, 2018,\n",
       "            2019],\n",
       "           dtype='int64', name='year')"
      ]
     },
     "execution_count": 10,
     "metadata": {},
     "output_type": "execute_result"
    }
   ],
   "source": [
    "fleet_df.index"
   ]
  },
  {
   "cell_type": "code",
   "execution_count": 11,
   "metadata": {},
   "outputs": [
    {
     "data": {
      "text/plain": [
       "(34, 4)"
      ]
     },
     "execution_count": 11,
     "metadata": {},
     "output_type": "execute_result"
    }
   ],
   "source": [
    "fleet_df.shape"
   ]
  },
  {
   "cell_type": "code",
   "execution_count": 12,
   "metadata": {},
   "outputs": [
    {
     "name": "stdout",
     "output_type": "stream",
     "text": [
      "<class 'pandas.core.frame.DataFrame'>\n",
      "Int64Index: 34 entries, 1972 to 2019\n",
      "Data columns (total 4 columns):\n",
      "loco_prcnt_available    34 non-null object\n",
      "loco_avg_age            34 non-null object\n",
      "amtk_prcnt_available    34 non-null object\n",
      "amtk_avg_age            34 non-null object\n",
      "dtypes: object(4)\n",
      "memory usage: 2.6+ KB\n"
     ]
    }
   ],
   "source": [
    "fleet_df.info()"
   ]
  },
  {
   "cell_type": "markdown",
   "metadata": {},
   "source": [
    "Convert dtypes from object to numeric types"
   ]
  },
  {
   "cell_type": "code",
   "execution_count": 13,
   "metadata": {},
   "outputs": [],
   "source": [
    "fleet_df = fleet_df.apply(pd.to_numeric, errors='coerce')"
   ]
  },
  {
   "cell_type": "code",
   "execution_count": 14,
   "metadata": {},
   "outputs": [
    {
     "data": {
      "text/plain": [
       "loco_prcnt_available    7\n",
       "loco_avg_age            0\n",
       "amtk_prcnt_available    7\n",
       "amtk_avg_age            0\n",
       "dtype: int64"
      ]
     },
     "execution_count": 14,
     "metadata": {},
     "output_type": "execute_result"
    }
   ],
   "source": [
    "fleet_df.isna().sum()"
   ]
  },
  {
   "cell_type": "code",
   "execution_count": 15,
   "metadata": {},
   "outputs": [
    {
     "data": {
      "text/html": [
       "<div>\n",
       "<style scoped>\n",
       "    .dataframe tbody tr th:only-of-type {\n",
       "        vertical-align: middle;\n",
       "    }\n",
       "\n",
       "    .dataframe tbody tr th {\n",
       "        vertical-align: top;\n",
       "    }\n",
       "\n",
       "    .dataframe thead th {\n",
       "        text-align: right;\n",
       "    }\n",
       "</style>\n",
       "<table border=\"1\" class=\"dataframe\">\n",
       "  <thead>\n",
       "    <tr style=\"text-align: right;\">\n",
       "      <th></th>\n",
       "      <th>loco_prcnt_available</th>\n",
       "      <th>loco_avg_age</th>\n",
       "      <th>amtk_prcnt_available</th>\n",
       "      <th>amtk_avg_age</th>\n",
       "    </tr>\n",
       "    <tr>\n",
       "      <th>year</th>\n",
       "      <th></th>\n",
       "      <th></th>\n",
       "      <th></th>\n",
       "      <th></th>\n",
       "    </tr>\n",
       "  </thead>\n",
       "  <tbody>\n",
       "    <tr>\n",
       "      <td>1972</td>\n",
       "      <td>NaN</td>\n",
       "      <td>22.3</td>\n",
       "      <td>NaN</td>\n",
       "      <td>22.0</td>\n",
       "    </tr>\n",
       "    <tr>\n",
       "      <td>1975</td>\n",
       "      <td>87.0</td>\n",
       "      <td>14.4</td>\n",
       "      <td>82.0</td>\n",
       "      <td>24.7</td>\n",
       "    </tr>\n",
       "    <tr>\n",
       "      <td>1980</td>\n",
       "      <td>83.0</td>\n",
       "      <td>7.4</td>\n",
       "      <td>77.0</td>\n",
       "      <td>14.3</td>\n",
       "    </tr>\n",
       "    <tr>\n",
       "      <td>1985</td>\n",
       "      <td>93.0</td>\n",
       "      <td>7.0</td>\n",
       "      <td>90.0</td>\n",
       "      <td>14.2</td>\n",
       "    </tr>\n",
       "    <tr>\n",
       "      <td>1990</td>\n",
       "      <td>84.0</td>\n",
       "      <td>12.0</td>\n",
       "      <td>90.0</td>\n",
       "      <td>20.0</td>\n",
       "    </tr>\n",
       "  </tbody>\n",
       "</table>\n",
       "</div>"
      ],
      "text/plain": [
       "      loco_prcnt_available  loco_avg_age  amtk_prcnt_available  amtk_avg_age\n",
       "year                                                                        \n",
       "1972                   NaN          22.3                   NaN          22.0\n",
       "1975                  87.0          14.4                  82.0          24.7\n",
       "1980                  83.0           7.4                  77.0          14.3\n",
       "1985                  93.0           7.0                  90.0          14.2\n",
       "1990                  84.0          12.0                  90.0          20.0"
      ]
     },
     "execution_count": 15,
     "metadata": {},
     "output_type": "execute_result"
    }
   ],
   "source": [
    "fleet_df.head()"
   ]
  },
  {
   "cell_type": "markdown",
   "metadata": {},
   "source": [
    "Install missingpy library. The goal is to impute missing values with meaningful values. MissForest imputation based on Random Forest algorithm does not require extensive data preparation or tuning. "
   ]
  },
  {
   "cell_type": "code",
   "execution_count": 16,
   "metadata": {},
   "outputs": [
    {
     "name": "stdout",
     "output_type": "stream",
     "text": [
      "Requirement already satisfied: missingpy in c:\\anaconda3\\lib\\site-packages (0.2.0)\n"
     ]
    }
   ],
   "source": [
    "!pip install missingpy"
   ]
  },
  {
   "cell_type": "code",
   "execution_count": 17,
   "metadata": {},
   "outputs": [],
   "source": [
    "from missingpy import MissForest"
   ]
  },
  {
   "cell_type": "code",
   "execution_count": 18,
   "metadata": {},
   "outputs": [],
   "source": [
    "imputer = MissForest()"
   ]
  },
  {
   "cell_type": "code",
   "execution_count": 19,
   "metadata": {},
   "outputs": [],
   "source": [
    "X = fleet_df.copy()"
   ]
  },
  {
   "cell_type": "code",
   "execution_count": 20,
   "metadata": {},
   "outputs": [
    {
     "name": "stdout",
     "output_type": "stream",
     "text": [
      "Iteration: 0\n",
      "Iteration: 1\n",
      "Iteration: 2\n"
     ]
    }
   ],
   "source": [
    "X_imputed = imputer.fit_transform(X)"
   ]
  },
  {
   "cell_type": "code",
   "execution_count": 21,
   "metadata": {},
   "outputs": [
    {
     "data": {
      "text/plain": [
       "array([[82.834, 22.3  , 86.737, 22.   ],\n",
       "       [87.   , 14.4  , 82.   , 24.7  ],\n",
       "       [83.   ,  7.4  , 77.   , 14.3  ],\n",
       "       [93.   ,  7.   , 90.   , 14.2  ],\n",
       "       [84.   , 12.   , 90.   , 20.   ],\n",
       "       [86.   , 13.   , 92.   , 21.   ],\n",
       "       [83.   , 13.   , 90.   , 21.5  ],\n",
       "       [84.   , 13.2  , 89.   , 22.6  ],\n",
       "       [85.   , 13.4  , 88.   , 22.4  ],\n",
       "       [88.   , 13.9  , 90.   , 21.8  ],\n",
       "       [88.   , 14.4  , 90.   , 20.7  ],\n",
       "       [88.   , 12.   , 91.   , 19.8  ],\n",
       "       [88.   , 12.6  , 93.   , 21.1  ],\n",
       "       [90.   , 12.8  , 91.   , 22.2  ],\n",
       "       [89.   , 11.2  , 91.   , 19.4  ],\n",
       "       [83.982, 13.9  , 88.755, 18.5  ],\n",
       "       [83.601, 13.6  , 89.046, 18.7  ],\n",
       "       [83.   , 14.8  , 87.2  , 19.3  ],\n",
       "       [81.5  , 15.7  , 83.9  , 20.5  ],\n",
       "       [83.4  , 16.5  , 84.4  , 21.5  ],\n",
       "       [84.8  , 17.5  , 85.1  , 22.5  ],\n",
       "       [86.3  , 18.6  , 85.9  , 23.5  ],\n",
       "       [85.4  , 19.6  , 86.3  , 24.5  ],\n",
       "       [84.9  , 20.6  , 87.2  , 25.5  ],\n",
       "       [85.5  , 19.1  , 88.5  , 25.6  ],\n",
       "       [84.2  , 20.   , 87.7  , 26.5  ],\n",
       "       [83.7  , 21.   , 88.7  , 27.7  ],\n",
       "       [80.3  , 21.9  , 89.1  , 28.6  ],\n",
       "       [82.5  , 21.5  , 89.1  , 29.6  ],\n",
       "       [82.   , 21.1  , 88.8  , 30.7  ],\n",
       "       [83.5  , 20.3  , 88.462, 31.3  ],\n",
       "       [83.786, 19.3  , 88.209, 30.6  ],\n",
       "       [83.659, 19.9  , 88.465, 31.3  ],\n",
       "       [83.874, 18.3  , 87.879, 32.7  ]])"
      ]
     },
     "execution_count": 21,
     "metadata": {},
     "output_type": "execute_result"
    }
   ],
   "source": [
    "X_imputed"
   ]
  },
  {
   "cell_type": "code",
   "execution_count": 22,
   "metadata": {},
   "outputs": [],
   "source": [
    "fleet_df2 = pd.DataFrame(X_imputed,columns=fleet_cols, index=fleet_df.index)"
   ]
  },
  {
   "cell_type": "code",
   "execution_count": 23,
   "metadata": {},
   "outputs": [
    {
     "data": {
      "text/html": [
       "<div>\n",
       "<style scoped>\n",
       "    .dataframe tbody tr th:only-of-type {\n",
       "        vertical-align: middle;\n",
       "    }\n",
       "\n",
       "    .dataframe tbody tr th {\n",
       "        vertical-align: top;\n",
       "    }\n",
       "\n",
       "    .dataframe thead th {\n",
       "        text-align: right;\n",
       "    }\n",
       "</style>\n",
       "<table border=\"1\" class=\"dataframe\">\n",
       "  <thead>\n",
       "    <tr style=\"text-align: right;\">\n",
       "      <th></th>\n",
       "      <th>loco_prcnt_available</th>\n",
       "      <th>loco_avg_age</th>\n",
       "      <th>amtk_prcnt_available</th>\n",
       "      <th>amtk_avg_age</th>\n",
       "    </tr>\n",
       "    <tr>\n",
       "      <th>year</th>\n",
       "      <th></th>\n",
       "      <th></th>\n",
       "      <th></th>\n",
       "      <th></th>\n",
       "    </tr>\n",
       "  </thead>\n",
       "  <tbody>\n",
       "    <tr>\n",
       "      <td>1972</td>\n",
       "      <td>82.834</td>\n",
       "      <td>22.3</td>\n",
       "      <td>86.737</td>\n",
       "      <td>22.0</td>\n",
       "    </tr>\n",
       "    <tr>\n",
       "      <td>1975</td>\n",
       "      <td>87.000</td>\n",
       "      <td>14.4</td>\n",
       "      <td>82.000</td>\n",
       "      <td>24.7</td>\n",
       "    </tr>\n",
       "    <tr>\n",
       "      <td>1980</td>\n",
       "      <td>83.000</td>\n",
       "      <td>7.4</td>\n",
       "      <td>77.000</td>\n",
       "      <td>14.3</td>\n",
       "    </tr>\n",
       "    <tr>\n",
       "      <td>1985</td>\n",
       "      <td>93.000</td>\n",
       "      <td>7.0</td>\n",
       "      <td>90.000</td>\n",
       "      <td>14.2</td>\n",
       "    </tr>\n",
       "    <tr>\n",
       "      <td>1990</td>\n",
       "      <td>84.000</td>\n",
       "      <td>12.0</td>\n",
       "      <td>90.000</td>\n",
       "      <td>20.0</td>\n",
       "    </tr>\n",
       "    <tr>\n",
       "      <td>1991</td>\n",
       "      <td>86.000</td>\n",
       "      <td>13.0</td>\n",
       "      <td>92.000</td>\n",
       "      <td>21.0</td>\n",
       "    </tr>\n",
       "    <tr>\n",
       "      <td>1992</td>\n",
       "      <td>83.000</td>\n",
       "      <td>13.0</td>\n",
       "      <td>90.000</td>\n",
       "      <td>21.5</td>\n",
       "    </tr>\n",
       "    <tr>\n",
       "      <td>1993</td>\n",
       "      <td>84.000</td>\n",
       "      <td>13.2</td>\n",
       "      <td>89.000</td>\n",
       "      <td>22.6</td>\n",
       "    </tr>\n",
       "    <tr>\n",
       "      <td>1994</td>\n",
       "      <td>85.000</td>\n",
       "      <td>13.4</td>\n",
       "      <td>88.000</td>\n",
       "      <td>22.4</td>\n",
       "    </tr>\n",
       "    <tr>\n",
       "      <td>1995</td>\n",
       "      <td>88.000</td>\n",
       "      <td>13.9</td>\n",
       "      <td>90.000</td>\n",
       "      <td>21.8</td>\n",
       "    </tr>\n",
       "    <tr>\n",
       "      <td>1996</td>\n",
       "      <td>88.000</td>\n",
       "      <td>14.4</td>\n",
       "      <td>90.000</td>\n",
       "      <td>20.7</td>\n",
       "    </tr>\n",
       "    <tr>\n",
       "      <td>1997</td>\n",
       "      <td>88.000</td>\n",
       "      <td>12.0</td>\n",
       "      <td>91.000</td>\n",
       "      <td>19.8</td>\n",
       "    </tr>\n",
       "    <tr>\n",
       "      <td>1998</td>\n",
       "      <td>88.000</td>\n",
       "      <td>12.6</td>\n",
       "      <td>93.000</td>\n",
       "      <td>21.1</td>\n",
       "    </tr>\n",
       "    <tr>\n",
       "      <td>1999</td>\n",
       "      <td>90.000</td>\n",
       "      <td>12.8</td>\n",
       "      <td>91.000</td>\n",
       "      <td>22.2</td>\n",
       "    </tr>\n",
       "    <tr>\n",
       "      <td>2000</td>\n",
       "      <td>89.000</td>\n",
       "      <td>11.2</td>\n",
       "      <td>91.000</td>\n",
       "      <td>19.4</td>\n",
       "    </tr>\n",
       "    <tr>\n",
       "      <td>2001</td>\n",
       "      <td>83.982</td>\n",
       "      <td>13.9</td>\n",
       "      <td>88.755</td>\n",
       "      <td>18.5</td>\n",
       "    </tr>\n",
       "    <tr>\n",
       "      <td>2002</td>\n",
       "      <td>83.601</td>\n",
       "      <td>13.6</td>\n",
       "      <td>89.046</td>\n",
       "      <td>18.7</td>\n",
       "    </tr>\n",
       "    <tr>\n",
       "      <td>2003</td>\n",
       "      <td>83.000</td>\n",
       "      <td>14.8</td>\n",
       "      <td>87.200</td>\n",
       "      <td>19.3</td>\n",
       "    </tr>\n",
       "    <tr>\n",
       "      <td>2004</td>\n",
       "      <td>81.500</td>\n",
       "      <td>15.7</td>\n",
       "      <td>83.900</td>\n",
       "      <td>20.5</td>\n",
       "    </tr>\n",
       "    <tr>\n",
       "      <td>2005</td>\n",
       "      <td>83.400</td>\n",
       "      <td>16.5</td>\n",
       "      <td>84.400</td>\n",
       "      <td>21.5</td>\n",
       "    </tr>\n",
       "    <tr>\n",
       "      <td>2006</td>\n",
       "      <td>84.800</td>\n",
       "      <td>17.5</td>\n",
       "      <td>85.100</td>\n",
       "      <td>22.5</td>\n",
       "    </tr>\n",
       "    <tr>\n",
       "      <td>2007</td>\n",
       "      <td>86.300</td>\n",
       "      <td>18.6</td>\n",
       "      <td>85.900</td>\n",
       "      <td>23.5</td>\n",
       "    </tr>\n",
       "    <tr>\n",
       "      <td>2008</td>\n",
       "      <td>85.400</td>\n",
       "      <td>19.6</td>\n",
       "      <td>86.300</td>\n",
       "      <td>24.5</td>\n",
       "    </tr>\n",
       "    <tr>\n",
       "      <td>2009</td>\n",
       "      <td>84.900</td>\n",
       "      <td>20.6</td>\n",
       "      <td>87.200</td>\n",
       "      <td>25.5</td>\n",
       "    </tr>\n",
       "    <tr>\n",
       "      <td>2010</td>\n",
       "      <td>85.500</td>\n",
       "      <td>19.1</td>\n",
       "      <td>88.500</td>\n",
       "      <td>25.6</td>\n",
       "    </tr>\n",
       "    <tr>\n",
       "      <td>2011</td>\n",
       "      <td>84.200</td>\n",
       "      <td>20.0</td>\n",
       "      <td>87.700</td>\n",
       "      <td>26.5</td>\n",
       "    </tr>\n",
       "    <tr>\n",
       "      <td>2012</td>\n",
       "      <td>83.700</td>\n",
       "      <td>21.0</td>\n",
       "      <td>88.700</td>\n",
       "      <td>27.7</td>\n",
       "    </tr>\n",
       "    <tr>\n",
       "      <td>2013</td>\n",
       "      <td>80.300</td>\n",
       "      <td>21.9</td>\n",
       "      <td>89.100</td>\n",
       "      <td>28.6</td>\n",
       "    </tr>\n",
       "    <tr>\n",
       "      <td>2014</td>\n",
       "      <td>82.500</td>\n",
       "      <td>21.5</td>\n",
       "      <td>89.100</td>\n",
       "      <td>29.6</td>\n",
       "    </tr>\n",
       "    <tr>\n",
       "      <td>2015</td>\n",
       "      <td>82.000</td>\n",
       "      <td>21.1</td>\n",
       "      <td>88.800</td>\n",
       "      <td>30.7</td>\n",
       "    </tr>\n",
       "    <tr>\n",
       "      <td>2016</td>\n",
       "      <td>83.500</td>\n",
       "      <td>20.3</td>\n",
       "      <td>88.462</td>\n",
       "      <td>31.3</td>\n",
       "    </tr>\n",
       "    <tr>\n",
       "      <td>2017</td>\n",
       "      <td>83.786</td>\n",
       "      <td>19.3</td>\n",
       "      <td>88.209</td>\n",
       "      <td>30.6</td>\n",
       "    </tr>\n",
       "    <tr>\n",
       "      <td>2018</td>\n",
       "      <td>83.659</td>\n",
       "      <td>19.9</td>\n",
       "      <td>88.465</td>\n",
       "      <td>31.3</td>\n",
       "    </tr>\n",
       "    <tr>\n",
       "      <td>2019</td>\n",
       "      <td>83.874</td>\n",
       "      <td>18.3</td>\n",
       "      <td>87.879</td>\n",
       "      <td>32.7</td>\n",
       "    </tr>\n",
       "  </tbody>\n",
       "</table>\n",
       "</div>"
      ],
      "text/plain": [
       "      loco_prcnt_available  loco_avg_age  amtk_prcnt_available  amtk_avg_age\n",
       "year                                                                        \n",
       "1972                82.834          22.3                86.737          22.0\n",
       "1975                87.000          14.4                82.000          24.7\n",
       "1980                83.000           7.4                77.000          14.3\n",
       "1985                93.000           7.0                90.000          14.2\n",
       "1990                84.000          12.0                90.000          20.0\n",
       "1991                86.000          13.0                92.000          21.0\n",
       "1992                83.000          13.0                90.000          21.5\n",
       "1993                84.000          13.2                89.000          22.6\n",
       "1994                85.000          13.4                88.000          22.4\n",
       "1995                88.000          13.9                90.000          21.8\n",
       "1996                88.000          14.4                90.000          20.7\n",
       "1997                88.000          12.0                91.000          19.8\n",
       "1998                88.000          12.6                93.000          21.1\n",
       "1999                90.000          12.8                91.000          22.2\n",
       "2000                89.000          11.2                91.000          19.4\n",
       "2001                83.982          13.9                88.755          18.5\n",
       "2002                83.601          13.6                89.046          18.7\n",
       "2003                83.000          14.8                87.200          19.3\n",
       "2004                81.500          15.7                83.900          20.5\n",
       "2005                83.400          16.5                84.400          21.5\n",
       "2006                84.800          17.5                85.100          22.5\n",
       "2007                86.300          18.6                85.900          23.5\n",
       "2008                85.400          19.6                86.300          24.5\n",
       "2009                84.900          20.6                87.200          25.5\n",
       "2010                85.500          19.1                88.500          25.6\n",
       "2011                84.200          20.0                87.700          26.5\n",
       "2012                83.700          21.0                88.700          27.7\n",
       "2013                80.300          21.9                89.100          28.6\n",
       "2014                82.500          21.5                89.100          29.6\n",
       "2015                82.000          21.1                88.800          30.7\n",
       "2016                83.500          20.3                88.462          31.3\n",
       "2017                83.786          19.3                88.209          30.6\n",
       "2018                83.659          19.9                88.465          31.3\n",
       "2019                83.874          18.3                87.879          32.7"
      ]
     },
     "execution_count": 23,
     "metadata": {},
     "output_type": "execute_result"
    }
   ],
   "source": [
    "fleet_df2"
   ]
  },
  {
   "cell_type": "markdown",
   "metadata": {},
   "source": [
    "Scale the column values down using a standar scaler so that the percentage values and the average age are ready for modeling."
   ]
  }
 ],
 "metadata": {
  "kernelspec": {
   "display_name": "Python 3",
   "language": "python",
   "name": "python3"
  },
  "language_info": {
   "codemirror_mode": {
    "name": "ipython",
    "version": 3
   },
   "file_extension": ".py",
   "mimetype": "text/x-python",
   "name": "python",
   "nbconvert_exporter": "python",
   "pygments_lexer": "ipython3",
   "version": "3.7.10"
  }
 },
 "nbformat": 4,
 "nbformat_minor": 2
}
